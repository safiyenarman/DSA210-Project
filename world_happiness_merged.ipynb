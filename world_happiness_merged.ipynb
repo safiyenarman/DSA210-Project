{
  "cells": [
    {
      "cell_type": "markdown",
      "metadata": {
        "id": "view-in-github",
        "colab_type": "text"
      },
      "source": [
        "<a href=\"https://colab.research.google.com/github/safiyenarman/DSA210-Project/blob/main/world_happiness_merged.ipynb\" target=\"_parent\"><img src=\"https://colab.research.google.com/assets/colab-badge.svg\" alt=\"Open In Colab\"/></a>"
      ]
    },
    {
      "cell_type": "markdown",
      "metadata": {
        "id": "iAingizAXFgy"
      },
      "source": [
        "# World Happiness Report Merger & Cleaning (2019–2022)\n",
        "\n",
        "This notebook merges and cleans happiness scores for countries between 2019 and 2022. It standardizes the format and removes any extra characters from country names (like `*` or `xx`)."
      ]
    },
    {
      "cell_type": "code",
      "execution_count": null,
      "metadata": {
        "id": "eoXhFC79XFg0"
      },
      "outputs": [],
      "source": [
        "import pandas as pd"
      ]
    },
    {
      "cell_type": "markdown",
      "metadata": {
        "id": "LZmtPrycXFg1"
      },
      "source": [
        "## Load Datasets"
      ]
    },
    {
      "cell_type": "code",
      "execution_count": null,
      "metadata": {
        "id": "5dzMpmLuXFg1"
      },
      "outputs": [],
      "source": [
        "df_2019 = pd.read_csv(\"2019.csv\")\n",
        "df_2020 = pd.read_csv(\"2020.csv\")\n",
        "df_2021 = pd.read_csv(\"2021.csv\")\n",
        "df_2022 = pd.read_csv(\"2022.csv\")"
      ]
    },
    {
      "cell_type": "markdown",
      "metadata": {
        "id": "mes-PKiaXFg1"
      },
      "source": [
        "## Clean and Standardize Columns"
      ]
    },
    {
      "cell_type": "code",
      "execution_count": null,
      "metadata": {
        "id": "5nmaX7EKXFg1"
      },
      "outputs": [],
      "source": [
        "\n",
        "df_2019_cleaned = df_2019.rename(columns={\n",
        "    'Country or region': 'Country',\n",
        "    'Score': 'Score'\n",
        "})[['Country', 'Score']]\n",
        "df_2019_cleaned['Year'] = 2019\n",
        "\n",
        "df_2020_cleaned = df_2020.rename(columns={\n",
        "    'Country name': 'Country',\n",
        "    'Ladder score': 'Score'\n",
        "})[['Country', 'Score']]\n",
        "df_2020_cleaned['Year'] = 2020\n",
        "\n",
        "df_2021_cleaned = df_2021.rename(columns={\n",
        "    'Country name': 'Country',\n",
        "    'Ladder score': 'Score'\n",
        "})[['Country', 'Score']]\n",
        "df_2021_cleaned['Year'] = 2021\n"
      ]
    },
    {
      "cell_type": "markdown",
      "metadata": {
        "id": "1meA7q4TXFg1"
      },
      "source": [
        "## Merge and Clean Country Names"
      ]
    },
    {
      "cell_type": "code",
      "execution_count": null,
      "metadata": {
        "id": "3ZjVZSgHXFg2"
      },
      "outputs": [],
      "source": [
        "df_2022['Happiness score'] = df_2022['Happiness score'].str.replace(',', '.').astype(float)\n",
        "df_2022_cleaned = df_2022.rename(columns={\n",
        "    'Country': 'Country',\n",
        "    'Happiness score': 'Score'\n",
        "})[['Country', 'Score']]\n",
        "df_2022_cleaned['Year'] = 2022\n",
        "\n",
        "merged_df = pd.concat([\n",
        "    df_2019_cleaned,\n",
        "    df_2020_cleaned,\n",
        "    df_2021_cleaned,\n",
        "    df_2022_cleaned\n",
        "], ignore_index=True)\n",
        "\n",
        "# Sort by country and year\n",
        "merged_sorted_by_country = merged_df.sort_values(by=[\"Country\", \"Year\"]).reset_index(drop=True)\n"
      ]
    },
    {
      "cell_type": "markdown",
      "metadata": {
        "id": "Bg28r_2OXFg2"
      },
      "source": [
        "## Export Cleaned Data"
      ]
    },
    {
      "cell_type": "code",
      "execution_count": null,
      "metadata": {
        "id": "hdrEF-0OXFg2"
      },
      "outputs": [],
      "source": [
        "merged_sorted_by_country.to_csv(\"merged_happiness_by_country.csv\", index=False)"
      ]
    }
  ],
  "metadata": {
    "kernelspec": {
      "display_name": "Python 3",
      "language": "python",
      "name": "python3"
    },
    "language_info": {
      "name": "python"
    },
    "colab": {
      "provenance": [],
      "include_colab_link": true
    }
  },
  "nbformat": 4,
  "nbformat_minor": 0
}