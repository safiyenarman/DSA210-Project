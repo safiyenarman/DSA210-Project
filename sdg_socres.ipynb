{
  "cells": [
    {
      "cell_type": "markdown",
      "metadata": {
        "id": "view-in-github",
        "colab_type": "text"
      },
      "source": [
        "<a href=\"https://colab.research.google.com/github/safiyenarman/DSA210-Project/blob/main/sdg_socres.ipynb\" target=\"_parent\"><img src=\"https://colab.research.google.com/assets/colab-badge.svg\" alt=\"Open In Colab\"/></a>"
      ]
    },
    {
      "cell_type": "markdown",
      "metadata": {
        "id": "wJ8nCLZgZ1im"
      },
      "source": [
        "# SDG Index Scores (2019–2022)\n",
        "This notebook filters and explores Sustainable Development Goal (SDG) scores between the years 2019 and 2022."
      ]
    },
    {
      "cell_type": "code",
      "execution_count": null,
      "metadata": {
        "id": "OY_5lgEUZ1io"
      },
      "outputs": [],
      "source": [
        "import pandas as pd"
      ]
    },
    {
      "cell_type": "markdown",
      "metadata": {
        "id": "RpIBdIEwZ1ip"
      },
      "source": [
        "## Load the dataset"
      ]
    },
    {
      "cell_type": "code",
      "execution_count": null,
      "metadata": {
        "id": "MB46oauCZ1ip"
      },
      "outputs": [],
      "source": [
        "# Load the full SDG dataset\n",
        "df = pd.read_csv(\"sdg_scores.csv\")\n",
        "\n",
        "# Filter for years 2019 to 2022\n",
        "df_filtered = df[(df['year'] >= 2019) & (df['year'] <= 2022)].reset_index(drop=True)\n",
        "\n",
        "# Preview\n",
        "df_filtered.head()"
      ]
    },
    {
      "cell_type": "markdown",
      "metadata": {
        "id": "ErHmYtBgZ1ip"
      },
      "source": [
        "## Export filtered dataset (optional)"
      ]
    },
    {
      "cell_type": "code",
      "execution_count": null,
      "metadata": {
        "id": "A7-YSk7_Z1ip"
      },
      "outputs": [],
      "source": [
        "df_filtered.to_csv(\"sdg_2019_2022.csv\", index=False)"
      ]
    }
  ],
  "metadata": {
    "kernelspec": {
      "display_name": "Python 3",
      "language": "python",
      "name": "python3"
    },
    "language_info": {
      "name": "python"
    },
    "colab": {
      "provenance": [],
      "include_colab_link": true
    }
  },
  "nbformat": 4,
  "nbformat_minor": 0
}